{
 "cells": [
  {
   "cell_type": "code",
   "execution_count": 1,
   "metadata": {
    "collapsed": true
   },
   "outputs": [],
   "source": [
    "import numpy as np\n",
    "import matplotlib.pyplot as plt\n",
    "%matplotlib inline"
   ]
  },
  {
   "cell_type": "code",
   "execution_count": 25,
   "metadata": {
    "collapsed": false
   },
   "outputs": [
    {
     "name": "stdout",
     "output_type": "stream",
     "text": [
      "[ 1.  1.  0.  0.  0.  0.  0.  0.  0.  0.  0.  0.] 12\n",
      "12\n",
      "0.0\n",
      "[ 0.  0.  0.  0.  0.  0.  0.  0.  1.  1.  0.  0.] 12\n",
      "12\n",
      "0.0\n",
      "[ 1.  0.  0.  0.  0.  0.  0.  1.  0.  0.  0.  0.] 12\n",
      "12\n",
      "0.0\n",
      "[ 0.  1.  0.  0.  0.  0.  0.  0.  0.  0.  0.  1.] 12\n",
      "12\n",
      "0.0\n",
      "[ 0.  1.  1.  0.  0.  0.  0.  0.  0.  0.  0.  0.] 12\n",
      "12\n",
      "0.0\n",
      "[ 0.  0.  0.  0.  0.  0.  0.  1.  0.  0.  0.  1.] 12\n",
      "12\n",
      "0.0\n",
      "[ 0.  0.  0.  1.  0.  0.  0.  0.  1.  0.  0.  0.] 12\n",
      "12\n",
      "0.0\n",
      "[ 1.  0.  0.  1.  0.  0.  0.  0.  0.  0.  0.  0.] 12\n",
      "12\n",
      "0.0\n",
      "[ 0.  0.  0.  0.  0.  0.  1.  0.  0.  0.  1.  0.] 12\n",
      "12\n",
      "0.0\n",
      "[ 0.  1.  0.  1.  0.  0.  0.  0.  0.  0.  0.  0.] 12\n",
      "12\n",
      "0.0\n",
      "[ 0.  0.  0.  0.  0.  0.  0.  0.  1.  0.  1.  0.] 12\n",
      "12\n",
      "0.0\n",
      "[ 0.  0.  0.  0.  0.  1.  0.  0.  0.  0.  0.  1.] 12\n",
      "12\n",
      "0.0\n",
      "[ 0.  0.  0.  1.  0.  0.  0.  0.  0.  1.  0.  0.] 12\n",
      "12\n"
     ]
    },
    {
     "ename": "IndexError",
     "evalue": "index 12 is out of bounds for axis 0 with size 12",
     "output_type": "error",
     "traceback": [
      "\u001b[1;31m---------------------------------------------------------------------------\u001b[0m",
      "\u001b[1;31mIndexError\u001b[0m                                Traceback (most recent call last)",
      "\u001b[1;32m<ipython-input-25-66682f25c1c5>\u001b[0m in \u001b[0;36m<module>\u001b[1;34m()\u001b[0m\n\u001b[0;32m     11\u001b[0m     \u001b[0mcontador\u001b[0m \u001b[1;33m=\u001b[0m \u001b[1;36m0.\u001b[0m\u001b[1;33m\u001b[0m\u001b[0m\n\u001b[0;32m     12\u001b[0m     \u001b[1;32mfor\u001b[0m \u001b[0mj\u001b[0m \u001b[1;32min\u001b[0m \u001b[0mrange\u001b[0m\u001b[1;33m(\u001b[0m\u001b[0mlen\u001b[0m\u001b[1;33m(\u001b[0m\u001b[0mnums\u001b[0m\u001b[1;33m)\u001b[0m\u001b[1;33m-\u001b[0m\u001b[1;36m1\u001b[0m\u001b[1;33m)\u001b[0m\u001b[1;33m:\u001b[0m\u001b[1;33m\u001b[0m\u001b[0m\n\u001b[1;32m---> 13\u001b[1;33m         \u001b[1;32mif\u001b[0m\u001b[1;33m(\u001b[0m\u001b[0mnums\u001b[0m\u001b[1;33m[\u001b[0m\u001b[0mi\u001b[0m\u001b[1;33m]\u001b[0m\u001b[1;33m==\u001b[0m\u001b[1;36m0\u001b[0m \u001b[1;32mand\u001b[0m \u001b[0mnums\u001b[0m\u001b[1;33m[\u001b[0m\u001b[0mi\u001b[0m\u001b[1;33m-\u001b[0m\u001b[1;36m1\u001b[0m\u001b[1;33m]\u001b[0m\u001b[1;33m==\u001b[0m\u001b[1;36m1\u001b[0m \u001b[1;32mand\u001b[0m \u001b[0mnums\u001b[0m\u001b[1;33m[\u001b[0m\u001b[0mi\u001b[0m\u001b[1;33m+\u001b[0m\u001b[1;36m1\u001b[0m\u001b[1;33m]\u001b[0m\u001b[1;33m==\u001b[0m\u001b[1;36m1\u001b[0m\u001b[1;33m)\u001b[0m\u001b[1;33m:\u001b[0m\u001b[1;33m\u001b[0m\u001b[0m\n\u001b[0m\u001b[0;32m     14\u001b[0m             \u001b[0mcontador\u001b[0m \u001b[1;33m+=\u001b[0m\u001b[1;36m1\u001b[0m\u001b[1;33m\u001b[0m\u001b[0m\n\u001b[0;32m     15\u001b[0m     \u001b[1;32mprint\u001b[0m \u001b[0mcontador\u001b[0m\u001b[1;33m\u001b[0m\u001b[0m\n",
      "\u001b[1;31mIndexError\u001b[0m: index 12 is out of bounds for axis 0 with size 12"
     ]
    }
   ],
   "source": [
    "peruanos = 10.\n",
    "colombianos = 2.\n",
    "\n",
    "for i in range(500):\n",
    "    nums = np.ones(peruanos+colombianos)\n",
    "    nums[:10] = 0\n",
    "    np.random.shuffle(nums)\n",
    "    print nums, len(nums)\n",
    "    np.append(nums,nums[0])\n",
    "    print len(nums)\n",
    "    contador = 0.\n",
    "    for j in range(len(nums)-1):\n",
    "        if(nums[i]==0 and nums[i-1]==1 and nums[i+1]==1):\n",
    "            contador +=1\n",
    "    print contador    "
   ]
  },
  {
   "cell_type": "code",
   "execution_count": 41,
   "metadata": {
    "collapsed": false
   },
   "outputs": [
    {
     "name": "stdout",
     "output_type": "stream",
     "text": [
      "0\n",
      "[ 1.] 1\n"
     ]
    }
   ],
   "source": [
    "a = np.array([])\n",
    "print len(a)\n",
    "a =np.append(a,1)\n",
    "print a,len(a)"
   ]
  },
  {
   "cell_type": "code",
   "execution_count": 30,
   "metadata": {
    "collapsed": true
   },
   "outputs": [],
   "source": [
    "np.append?"
   ]
  },
  {
   "cell_type": "code",
   "execution_count": null,
   "metadata": {
    "collapsed": true
   },
   "outputs": [],
   "source": []
  }
 ],
 "metadata": {
  "kernelspec": {
   "display_name": "Python 2",
   "language": "python",
   "name": "python2"
  },
  "language_info": {
   "codemirror_mode": {
    "name": "ipython",
    "version": 2
   },
   "file_extension": ".py",
   "mimetype": "text/x-python",
   "name": "python",
   "nbconvert_exporter": "python",
   "pygments_lexer": "ipython2",
   "version": "2.7.9"
  }
 },
 "nbformat": 4,
 "nbformat_minor": 0
}
