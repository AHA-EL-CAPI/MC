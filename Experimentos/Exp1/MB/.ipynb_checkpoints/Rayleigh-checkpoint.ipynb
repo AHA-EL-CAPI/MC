{
 "metadata": {
  "name": ""
 },
 "nbformat": 3,
 "nbformat_minor": 0,
 "worksheets": [
  {
   "cells": [
    {
     "cell_type": "heading",
     "level": 1,
     "metadata": {},
     "source": [
      "Introducci\u00f3n"
     ]
    },
    {
     "cell_type": "markdown",
     "metadata": {},
     "source": [
      "El potencial de Liennard Jones es un modelo matem\u00e1tico simple que describe la interacci\u00f3n entre pares de \u00e1tomos o mol\u00e9culas neutrales. Su expresi\u00f3n m\u00e1s general es \n",
      "\n",
      "\\begin{equation}\n",
      "\\large\n",
      "V_{LJ}= 4\\epsilon[(\\frac{\\sigma}{r})^{12}-(\\frac{\\sigma}{r})^{6}]\n",
      "\\end{equation}\n",
      "\n",
      "En este experimento se pretende trabajar con una simulaci\u00f3n de un gas de part\u00edculas que interact\u00faan bajo el potencial $V_{LJ}$. La simulaci\u00f3n se realiza con base en un software del libro *The Art of Molecular Dynamics Simulation de Rapaport*, considerando que las velocidades iniciales de las part\u00edculas tienen una distribuci\u00f3n uniforme y tomando sus posiciones iniciales en una cuadr\u00edcula.\n",
      "\n",
      "Teniendo en cuenta lo anterior, el prop\u00f3sito de este experimento es verificar que, en equilibrio termodin\u00e1mico, la distribuci\u00f3n de rapideces de las part\u00edculas del gas es adecuadamente descrita por la distribuci\u00f3n de Rayleigh, la cual se observa frecuentemente cuando la magnitud total de un vector est\u00e1 relacionada con sus componentes direcionales. Dicha distribuci\u00f3n est\u00e1 dada por:\n",
      "\n",
      "\\begin{equation}\n",
      "\\large\n",
      "f(x,\\sigma) = \\left(\\frac{x}{\\sigma^2}\\right)e^{\\left(\\frac{-x\u00b2}{2\\sigma\u00b2}\\right)}\n",
      "\\end{equation}\n",
      "\n",
      "Para las siguientes secciones se usar\u00e1n herramientas como `curve_fit`, `hist`, `animate`, entre otras."
     ]
    },
    {
     "cell_type": "heading",
     "level": 1,
     "metadata": {},
     "source": [
      "An\u00e1lisis de datos"
     ]
    },
    {
     "cell_type": "code",
     "collapsed": false,
     "input": [
      "%pylab inline\n",
      "from scipy.optimize import curve_fit"
     ],
     "language": "python",
     "metadata": {},
     "outputs": [
      {
       "output_type": "stream",
       "stream": "stdout",
       "text": [
        "Populating the interactive namespace from numpy and matplotlib\n"
       ]
      },
      {
       "output_type": "stream",
       "stream": "stderr",
       "text": [
        "WARNING: pylab import has clobbered these variables: ['f', 'cov']\n",
        "`%pylab --no-import-all` prevents importing * from pylab and numpy\n"
       ]
      }
     ],
     "prompt_number": 16
    },
    {
     "cell_type": "markdown",
     "metadata": {},
     "source": [
      "Primero se importan los datos desde el archivp Rayleigh.csv"
     ]
    },
    {
     "cell_type": "code",
     "collapsed": false,
     "input": [
      "doc = genfromtxt(\"Rayleigh.csv\",delimiter=\",\")\n",
      "x = doc[:,0]\n",
      "y = doc[:,1]\n",
      "vx = doc[:,2]\n",
      "vy = doc[:,3]"
     ],
     "language": "python",
     "metadata": {},
     "outputs": [],
     "prompt_number": 2
    },
    {
     "cell_type": "markdown",
     "metadata": {},
     "source": [
      "Luego se calculan las rapideces de las part\u00edculas"
     ]
    },
    {
     "cell_type": "code",
     "collapsed": false,
     "input": [
      "velocities = array(sqrt(vx[:]**2 + vy[:]**2))"
     ],
     "language": "python",
     "metadata": {},
     "outputs": [],
     "prompt_number": 12
    },
    {
     "cell_type": "markdown",
     "metadata": {},
     "source": [
      "Teniendo en cuenta la informaci\u00f3n anterior, se realiza un histograma de los datos de las rapideces, conjuntamente con una regresi\u00f3n no lineal para ver si los datos se ajustan o no a la distribuci\u00f3n de Rayleigh. Solo se tienen en cuenta los \u00faltimos 1600 datos de la simulaci\u00f3n puesto que se asume que para estos datos el sistema ya ha alcanzado el equilibrio."
     ]
    },
    {
     "cell_type": "code",
     "collapsed": false,
     "input": [
      "def f(x,sigma):\n",
      "    return x*exp(-(x**2/(2**sigma**2)))/sigma**2\n",
      "\n",
      "vel = zeros((251,2))\n",
      "\n",
      "for i in range(251):\n",
      "\n",
      "    a = hist(velocities[i*1600:(i+1)*1600],normed=True,bins=50)\n",
      "    vel[i][0] = a[1][0:50]\n",
      "    vel[i][1] = a[0]\n"
     ],
     "language": "python",
     "metadata": {},
     "outputs": [
      {
       "ename": "ValueError",
       "evalue": "setting an array element with a sequence.",
       "output_type": "pyerr",
       "traceback": [
        "\u001b[0;31m---------------------------------------------------------------------------\u001b[0m\n\u001b[0;31mValueError\u001b[0m                                Traceback (most recent call last)",
        "\u001b[0;32m<ipython-input-24-bb172a0f4514>\u001b[0m in \u001b[0;36m<module>\u001b[0;34m()\u001b[0m\n\u001b[1;32m      7\u001b[0m \u001b[0;34m\u001b[0m\u001b[0m\n\u001b[1;32m      8\u001b[0m     \u001b[0ma\u001b[0m \u001b[0;34m=\u001b[0m \u001b[0mhist\u001b[0m\u001b[0;34m(\u001b[0m\u001b[0mvelocities\u001b[0m\u001b[0;34m[\u001b[0m\u001b[0mi\u001b[0m\u001b[0;34m*\u001b[0m\u001b[0;36m1600\u001b[0m\u001b[0;34m:\u001b[0m\u001b[0;34m(\u001b[0m\u001b[0mi\u001b[0m\u001b[0;34m+\u001b[0m\u001b[0;36m1\u001b[0m\u001b[0;34m)\u001b[0m\u001b[0;34m*\u001b[0m\u001b[0;36m1600\u001b[0m\u001b[0;34m]\u001b[0m\u001b[0;34m,\u001b[0m\u001b[0mnormed\u001b[0m\u001b[0;34m=\u001b[0m\u001b[0mTrue\u001b[0m\u001b[0;34m,\u001b[0m\u001b[0mbins\u001b[0m\u001b[0;34m=\u001b[0m\u001b[0;36m50\u001b[0m\u001b[0;34m)\u001b[0m\u001b[0;34m\u001b[0m\u001b[0m\n\u001b[0;32m----> 9\u001b[0;31m     \u001b[0mvel\u001b[0m\u001b[0;34m[\u001b[0m\u001b[0mi\u001b[0m\u001b[0;34m]\u001b[0m\u001b[0;34m[\u001b[0m\u001b[0;36m0\u001b[0m\u001b[0;34m]\u001b[0m \u001b[0;34m=\u001b[0m \u001b[0ma\u001b[0m\u001b[0;34m[\u001b[0m\u001b[0;36m1\u001b[0m\u001b[0;34m]\u001b[0m\u001b[0;34m[\u001b[0m\u001b[0;36m0\u001b[0m\u001b[0;34m:\u001b[0m\u001b[0;36m50\u001b[0m\u001b[0;34m]\u001b[0m\u001b[0;34m\u001b[0m\u001b[0m\n\u001b[0m\u001b[1;32m     10\u001b[0m     \u001b[0mvel\u001b[0m\u001b[0;34m[\u001b[0m\u001b[0mi\u001b[0m\u001b[0;34m]\u001b[0m\u001b[0;34m[\u001b[0m\u001b[0;36m1\u001b[0m\u001b[0;34m]\u001b[0m \u001b[0;34m=\u001b[0m \u001b[0ma\u001b[0m\u001b[0;34m[\u001b[0m\u001b[0;36m0\u001b[0m\u001b[0;34m]\u001b[0m\u001b[0;34m\u001b[0m\u001b[0m\n",
        "\u001b[0;31mValueError\u001b[0m: setting an array element with a sequence."
       ]
      },
      {
       "metadata": {},
       "output_type": "display_data",
       "png": "[encoded data removed]",
       "text": [
        "<matplotlib.figure.Figure at 0x7f4788974490>"
       ]
      }
     ],
     "prompt_number": 24
    },
    {
     "cell_type": "code",
     "collapsed": false,
     "input": [
      "fitparts,cov = curve_fit(f,a[1][0:50],a[0])\n",
      "\n",
      "newx=linspace(0,3.5,1000)\n",
      "newy=f(newx,*fitparts)\n",
      "plot(newx,newy)\n",
      "\n",
      "show()"
     ],
     "language": "python",
     "metadata": {},
     "outputs": []
    },
    {
     "cell_type": "markdown",
     "metadata": {},
     "source": [
      "Considerando lo mostrado previamente se puede decir que los datos se ajustan bastante bien con la distribuci\u00f3n de Rayliegh, pues tanto la curva mostrada como el histobrama muestran un comportamiento af\u00edn. "
     ]
    },
    {
     "cell_type": "code",
     "collapsed": false,
     "input": [
      "%pylab\n",
      "from matplotlib import animation\n",
      "\n",
      "\n",
      "fig=figure()\n",
      "ax = fig.add_subplot(111, autoscale_on=False, xlim=(-36.0, 36.0), ylim=(-36.0, 36.0))\n",
      "ax.grid()\n",
      "line, = ax.plot([], [], 'o', lw=2)\n",
      "\n",
      "def init():\n",
      "    line.set_data([], [])\n",
      "    return line\n",
      "\n",
      "def animate(i):\n",
      "    thisx = [x[i]]\n",
      "    thisy = [y[i]]\n",
      "\n",
      "    line.set_data(thisx, thisy)\n",
      "    return line\n",
      "\n",
      "ani = animation.FuncAnimation(fig, animate, interval=25, blit=False, init_func=init)\n",
      "\n",
      "show()"
     ],
     "language": "python",
     "metadata": {},
     "outputs": [
      {
       "output_type": "stream",
       "stream": "stdout",
       "text": [
        "Using matplotlib backend: TkAgg\n",
        "Populating the interactive namespace from numpy and matplotlib\n"
       ]
      },
      {
       "output_type": "stream",
       "stream": "stderr",
       "text": [
        "WARNING: pylab import has clobbered these variables: ['f', 'cov']\n",
        "`%pylab --no-import-all` prevents importing * from pylab and numpy\n"
       ]
      }
     ],
     "prompt_number": 14
    },
    {
     "cell_type": "code",
     "collapsed": false,
     "input": [
      "animation.FuncAnimation?"
     ],
     "language": "python",
     "metadata": {},
     "outputs": [],
     "prompt_number": 11
    },
    {
     "cell_type": "code",
     "collapsed": false,
     "input": [],
     "language": "python",
     "metadata": {},
     "outputs": []
    }
   ],
   "metadata": {}
  }
 ]
}