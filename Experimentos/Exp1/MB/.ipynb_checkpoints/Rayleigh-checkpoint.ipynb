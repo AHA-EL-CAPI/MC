{
 "metadata": {
  "name": ""
 },
 "nbformat": 3,
 "nbformat_minor": 0,
 "worksheets": [
  {
   "cells": [
    {
     "cell_type": "code",
     "collapsed": false,
     "input": [
      "%pylab\n",
      "from matplotlib import animation\n",
      "\n",
      "doc = genfromtxt(\"Rayleigh.csv\",delimiter=\",\")\n",
      "x = doc[:,0]\n",
      "y = doc[:,1]\n",
      "vx = doc[:,2]\n",
      "vy = doc[:,3]\n",
      "\n",
      "fig=figure()\n",
      "ax = fig.add_subplot(111, autoscale_on=False, xlim=(-36.0, 36.0), ylim=(-36.0, 36.0))\n",
      "ax.grid()\n",
      "line, = ax.plot([], [], 'o', lw=2)\n",
      "\n",
      "def init():\n",
      "    line.set_data([], [])\n",
      "    return line\n",
      "\n",
      "def animate(i):\n",
      "    thisx = [x[i]]\n",
      "    thisy = [y[i]]\n",
      "\n",
      "    line.set_data(thisx, thisy)\n",
      "    return line\n",
      "\n",
      "ani = animation.FuncAnimation(fig, animate, 401600,interval=25, blit=False, init_func=init)\n",
      "\n",
      "show()"
     ],
     "language": "python",
     "metadata": {},
     "outputs": [
      {
       "output_type": "stream",
       "stream": "stdout",
       "text": [
        "Using matplotlib backend: TkAgg\n",
        "Populating the interactive namespace from numpy and matplotlib\n"
       ]
      }
     ],
     "prompt_number": 25
    },
    {
     "cell_type": "code",
     "collapsed": false,
     "input": [
      "%pylab inline\n",
      "\n",
      "from scipy.optimize import curve_fit"
     ],
     "language": "python",
     "metadata": {},
     "outputs": [
      {
       "output_type": "stream",
       "stream": "stdout",
       "text": [
        "Populating the interactive namespace from numpy and matplotlib\n"
       ]
      }
     ],
     "prompt_number": 26
    },
    {
     "cell_type": "code",
     "collapsed": false,
     "input": [
      "velocities = array(sqrt(vx[400000:401600]**2 + vy[400000:401600]**2))"
     ],
     "language": "python",
     "metadata": {},
     "outputs": [],
     "prompt_number": 8
    },
    {
     "cell_type": "code",
     "collapsed": false,
     "input": [
      "figure()\n",
      "hist(velocities,normed=True)\n",
      "show()"
     ],
     "language": "python",
     "metadata": {},
     "outputs": [
      {
       "metadata": {},
       "output_type": "display_data",
       "png": "[encoded data removed]",
       "text": [
        "<matplotlib.figure.Figure at 0x7f13993b6110>"
       ]
      }
     ],
     "prompt_number": 69
    },
    {
     "cell_type": "code",
     "collapsed": false,
     "input": [
      "def f(x,sigma):\n",
      "    return x*exp(-x**2/2*sigma**2)/sigma**2\n",
      "\n",
      "fitparts, cov = curve_fit(f,hist(velocities,normed=True,bins=9)[1],hist(velocities,normed=True,bins=10)[0])\n",
      "\n",
      "newx=linspace(0,4,1000)\n",
      "newy=f(newx,*fitparts)\n",
      "plot(newx,newy)\n",
      "\n"
     ],
     "language": "python",
     "metadata": {},
     "outputs": [
      {
       "metadata": {},
       "output_type": "pyout",
       "prompt_number": 71,
       "text": [
        "[<matplotlib.lines.Line2D at 0x7f1394a2da50>]"
       ]
      },
      {
       "metadata": {},
       "output_type": "display_data",
       "png": "[encoded data removed]",
       "text": [
        "<matplotlib.figure.Figure at 0x7f1399389910>"
       ]
      }
     ],
     "prompt_number": 71
    },
    {
     "cell_type": "code",
     "collapsed": false,
     "input": [
      "hist(velocities,normed=True,bins=50)[1]"
     ],
     "language": "python",
     "metadata": {},
     "outputs": [
      {
       "metadata": {},
       "output_type": "pyout",
       "prompt_number": 24,
       "text": [
        "array([ 0.04402638,  0.10825712,  0.17248786,  0.2367186 ,  0.30094933,\n",
        "        0.36518007,  0.42941081,  0.49364155,  0.55787228,  0.62210302,\n",
        "        0.68633376,  0.7505645 ,  0.81479524,  0.87902597,  0.94325671,\n",
        "        1.00748745,  1.07171819,  1.13594892,  1.20017966,  1.2644104 ,\n",
        "        1.32864114,  1.39287187,  1.45710261,  1.52133335,  1.58556409,\n",
        "        1.64979483,  1.71402556,  1.7782563 ,  1.84248704,  1.90671778,\n",
        "        1.97094851,  2.03517925,  2.09940999,  2.16364073,  2.22787146,\n",
        "        2.2921022 ,  2.35633294,  2.42056368,  2.48479442,  2.54902515,\n",
        "        2.61325589,  2.67748663,  2.74171737,  2.8059481 ,  2.87017884,\n",
        "        2.93440958,  2.99864032,  3.06287105,  3.12710179,  3.19133253,\n",
        "        3.25556327])"
       ]
      }
     ],
     "prompt_number": 24
    },
    {
     "cell_type": "code",
     "collapsed": false,
     "input": [
      "print len(hist(velocities,normed=True,bins=49)[1])\n"
     ],
     "language": "python",
     "metadata": {},
     "outputs": [
      {
       "output_type": "stream",
       "stream": "stdout",
       "text": [
        "50\n"
       ]
      },
      {
       "metadata": {},
       "output_type": "display_data",
       "png": "[encoded data removed]",
       "text": [
        "<matplotlib.figure.Figure at 0x7f13a1b21750>"
       ]
      }
     ],
     "prompt_number": 64
    },
    {
     "cell_type": "code",
     "collapsed": false,
     "input": [
      "len(velocities)"
     ],
     "language": "python",
     "metadata": {},
     "outputs": [
      {
       "metadata": {},
       "output_type": "pyout",
       "prompt_number": 9,
       "text": [
        "1600"
       ]
      }
     ],
     "prompt_number": 9
    },
    {
     "cell_type": "code",
     "collapsed": false,
     "input": [
      "%pylab \n",
      "len(hist(velocities,normed=True))"
     ],
     "language": "python",
     "metadata": {},
     "outputs": [
      {
       "output_type": "stream",
       "stream": "stdout",
       "text": [
        "Using matplotlib backend: TkAgg\n",
        "Populating the interactive namespace from numpy and matplotlib\n"
       ]
      },
      {
       "metadata": {},
       "output_type": "pyout",
       "prompt_number": 23,
       "text": [
        "3"
       ]
      }
     ],
     "prompt_number": 23
    },
    {
     "cell_type": "code",
     "collapsed": false,
     "input": [],
     "language": "python",
     "metadata": {},
     "outputs": []
    }
   ],
   "metadata": {}
  }
 ]
}