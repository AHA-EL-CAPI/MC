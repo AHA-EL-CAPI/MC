{
 "metadata": {
  "name": ""
 },
 "nbformat": 3,
 "nbformat_minor": 0,
 "worksheets": [
  {
   "cells": [
    {
     "cell_type": "code",
     "collapsed": false,
     "input": [
      "%pylab\n",
      "from matplotlib import animation\n",
      "\n",
      "doc = genfromtxt(\"Rayleigh.csv\",delimiter=\",\")\n",
      "x = doc[:,0]\n",
      "y = doc[:,1]\n",
      "vx = doc[:,2]\n",
      "vy = doc[:,3]\n",
      "\n",
      "fig=figure()\n",
      "ax = fig.add_subplot(111, autoscale_on=False, xlim=(-2.9, 2.9), ylim=(-3.1, 3.3))\n",
      "ax.grid()\n",
      "line, = ax.plot([], [], 'o', lw=2)\n",
      "\n",
      "def init():\n",
      "    line.set_data([], [])\n",
      "    return line\n",
      "\n",
      "def animate(i):\n",
      "    thisx = [vx[i]]\n",
      "    thisy = [vy[i]]\n",
      "\n",
      "    line.set_data(thisx, thisy)\n",
      "    return line\n",
      "\n",
      "ani = animation.FuncAnimation(fig, animate, interval=25, blit=False, init_func=init)\n",
      "\n",
      "show()"
     ],
     "language": "python",
     "metadata": {},
     "outputs": [
      {
       "output_type": "stream",
       "stream": "stdout",
       "text": [
        "Using matplotlib backend: TkAgg\n",
        "Populating the interactive namespace from numpy and matplotlib\n"
       ]
      }
     ],
     "prompt_number": 90
    },
    {
     "cell_type": "code",
     "collapsed": false,
     "input": [
      "%pylab inline\n",
      "from scipy.optimize import curve_fit"
     ],
     "language": "python",
     "metadata": {},
     "outputs": [
      {
       "output_type": "stream",
       "stream": "stdout",
       "text": [
        "Populating the interactive namespace from numpy and matplotlib\n"
       ]
      }
     ],
     "prompt_number": 91
    },
    {
     "cell_type": "code",
     "collapsed": false,
     "input": [
      "velocities = array(sqrt(vx[400000:401600]**2 + vy[400000:401600]**2))"
     ],
     "language": "python",
     "metadata": {},
     "outputs": [],
     "prompt_number": 92
    },
    {
     "cell_type": "code",
     "collapsed": false,
     "input": [
      "def f(x,sigma):\n",
      "    return x*exp(-x**2/(2*sigma**2))/sigma**2\n",
      "\n",
      "fitparts, cov = curve_fit(f,hist(velocities,normed=True,bins=30)[1][0:30],hist(velocities,normed=True,bins=30)[0])\n",
      "\n",
      "newx=linspace(0,3.5,1000)\n",
      "newy=f(newx,*fitparts)\n",
      "plot(newx,newy)\n",
      "\n",
      "show()"
     ],
     "language": "python",
     "metadata": {},
     "outputs": [
      {
       "metadata": {},
       "output_type": "display_data",
       "png": "[encoded data removed]",
       "text": [
        "<matplotlib.figure.Figure at 0x7f9d69dc3650>"
       ]
      }
     ],
     "prompt_number": 93
    },
    {
     "cell_type": "code",
     "collapsed": false,
     "input": [],
     "language": "python",
     "metadata": {},
     "outputs": []
    }
   ],
   "metadata": {}
  }
 ]
}