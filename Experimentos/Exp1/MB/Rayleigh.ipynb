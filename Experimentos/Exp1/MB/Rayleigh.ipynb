{
 "metadata": {
  "name": ""
 },
 "nbformat": 3,
 "nbformat_minor": 0,
 "worksheets": [
  {
   "cells": [
    {
     "cell_type": "heading",
     "level": 1,
     "metadata": {},
     "source": [
      "Introducci\u00f3n"
     ]
    },
    {
     "cell_type": "markdown",
     "metadata": {},
     "source": [
      "El potencial de Liennard Jones es un modelo matem\u00e1tico simple que describe la interacci\u00f3n entre pares de \u00e1tomos o mol\u00e9culas neutrales. Su expresi\u00f3n m\u00e1s general es \n",
      "\n",
      "\\begin{equation}\n",
      "\\large \n",
      "V_{LJ}= 4\\epsilon[(\\frac{\\sigma}{r})^{12}-(\\frac{\\sigma}{r})^{6}]\n",
      "\\end{equation}\n",
      "\n",
      "En este experimento se pretende trabajar con una simulaci\u00f3n de un gas de part\u00edculas que interact\u00faan bajo el potencial $V_{LJ}$. La simulaci\u00f3n se realiza con base en un software del libro *The Art of Molecular Dynamics Simulation de Rapaport*, considerando que las velocidades iniciales de las part\u00edculas tienen una distribuci\u00f3n uniforme y tomando sus posiciones iniciales en una cuadr\u00edcula.\n",
      "\n",
      "Teniendo en cuenta lo anterior, el prop\u00f3sito de este experimento es verificar que, en equilibrio termodin\u00e1mico, la distribuci\u00f3n de rapideces de las part\u00edculas del gas es adecuadamente descrita por la distribuci\u00f3n de Rayleigh, la cual se observa frecuentemente cuando la magnitud total de un vector est\u00e1 relacionada con sus componentes direcionales. Dicha distribuci\u00f3n est\u00e1 dada por:\n",
      "\n",
      "\\begin{equation}\n",
      "\\large\n",
      "f(x,\\sigma) = \\left(\\frac{x}{\\sigma^2}\\right)e^{\\left(\\frac{-x\u00b2}{2\\sigma\u00b2}\\right)}\n",
      "\\end{equation}\n",
      "\n",
      "Para las siguientes secciones se usar\u00e1n herramientas como `curve_fit`, `hist`, `animate`, entre otras."
     ]
    },
    {
     "cell_type": "heading",
     "level": 1,
     "metadata": {},
     "source": [
      "An\u00e1lisis de datos"
     ]
    },
    {
     "cell_type": "code",
     "collapsed": false,
     "input": [
      "%pylab inline\n",
      "from scipy.optimize import curve_fit"
     ],
     "language": "python",
     "metadata": {},
     "outputs": [
      {
       "output_type": "stream",
       "stream": "stdout",
       "text": [
        "Populating the interactive namespace from numpy and matplotlib\n"
       ]
      },
      {
       "output_type": "stream",
       "stream": "stderr",
       "text": [
        "WARNING: pylab import has clobbered these variables: ['step']\n",
        "`%pylab --no-import-all` prevents importing * from pylab and numpy\n"
       ]
      }
     ],
     "prompt_number": 5
    },
    {
     "cell_type": "markdown",
     "metadata": {},
     "source": [
      "Primero se importan los datos desde el archivp Rayleigh.csv"
     ]
    },
    {
     "cell_type": "code",
     "collapsed": false,
     "input": [
      "doc = genfromtxt(\"Rayleigh.csv\",delimiter=\",\")\n",
      "x = doc[:,0]\n",
      "y = doc[:,1]\n",
      "vx = doc[:,2]\n",
      "vy = doc[:,3]"
     ],
     "language": "python",
     "metadata": {},
     "outputs": [],
     "prompt_number": 6
    },
    {
     "cell_type": "markdown",
     "metadata": {},
     "source": [
      "Luego se calculan las rapideces de las part\u00edculas"
     ]
    },
    {
     "cell_type": "code",
     "collapsed": false,
     "input": [
      "velocities = array(sqrt(vx[:]**2 + vy[:]**2))"
     ],
     "language": "python",
     "metadata": {},
     "outputs": [],
     "prompt_number": 7
    },
    {
     "cell_type": "markdown",
     "metadata": {},
     "source": [
      "Teniendo en cuenta la informaci\u00f3n anterior, se realiza un histograma de los datos de las rapideces, conjuntamente con una regresi\u00f3n no lineal para ver si los datos se ajustan o no a la distribuci\u00f3n de Rayleigh. Solo se tienen en cuenta los \u00faltimos 1600 datos de la simulaci\u00f3n puesto que se asume que para estos datos el sistema ya ha alcanzado el equilibrio."
     ]
    },
    {
     "cell_type": "code",
     "collapsed": false,
     "input": [
      "def f(x,sigma):\n",
      "    return x*exp(-(x**2/(2**sigma**2)))/sigma**2\n",
      "\n",
      "vel = []\n",
      "\n",
      "for i in range(251):\n",
      "    a = hist(velocities[i*1600:(i+1)*1600],normed=True,bins=50)\n",
      "    fitparts,cov = curve_fit(f,a[1][0:50],a[0])\n",
      "    vel.append([a,fitparts])\n"
     ],
     "language": "python",
     "metadata": {},
     "outputs": [
      {
       "metadata": {},
       "output_type": "display_data",
       "png": "[encoded data removed]",
       "text": [
        "<matplotlib.figure.Figure at 0x7ff4dc365b10>"
       ]
      }
     ],
     "prompt_number": 21
    },
    {
     "cell_type": "code",
     "collapsed": false,
     "input": [
      "print vel[250][0][1][0:50]"
     ],
     "language": "python",
     "metadata": {},
     "outputs": [
      {
       "output_type": "stream",
       "stream": "stdout",
       "text": [
        "[ 0.04402638  0.10825712  0.17248786  0.2367186   0.30094933  0.36518007\n",
        "  0.42941081  0.49364155  0.55787228  0.62210302  0.68633376  0.7505645\n",
        "  0.81479524  0.87902597  0.94325671  1.00748745  1.07171819  1.13594892\n",
        "  1.20017966  1.2644104   1.32864114  1.39287187  1.45710261  1.52133335\n",
        "  1.58556409  1.64979483  1.71402556  1.7782563   1.84248704  1.90671778\n",
        "  1.97094851  2.03517925  2.09940999  2.16364073  2.22787146  2.2921022\n",
        "  2.35633294  2.42056368  2.48479442  2.54902515  2.61325589  2.67748663\n",
        "  2.74171737  2.8059481   2.87017884  2.93440958  2.99864032  3.06287105\n",
        "  3.12710179  3.19133253]\n"
       ]
      },
      {
       "output_type": "stream",
       "stream": "stderr",
       "text": [
        "Exception in Tkinter callback\n",
        "Traceback (most recent call last):\n",
        "  File \"/usr/lib/python2.7/lib-tk/Tkinter.py\", line 1489, in __call__\n",
        "    return self.func(*args)\n",
        "  File \"/usr/lib/python2.7/lib-tk/Tkinter.py\", line 536, in callit\n",
        "    func(*args)\n",
        "  File \"/usr/lib/pymodules/python2.7/matplotlib/backends/backend_tkagg.py\", line 141, in _on_timer\n",
        "    TimerBase._on_timer(self)\n",
        "  File \"/usr/lib/pymodules/python2.7/matplotlib/backend_bases.py\", line 1203, in _on_timer\n",
        "    ret = func(*args, **kwargs)\n",
        "  File \"/usr/lib/pymodules/python2.7/matplotlib/animation.py\", line 876, in _step\n",
        "    still_going = Animation._step(self, *args)\n",
        "  File \"/usr/lib/pymodules/python2.7/matplotlib/animation.py\", line 735, in _step\n",
        "    self._draw_next_frame(framedata, self._blit)\n",
        "  File \"/usr/lib/pymodules/python2.7/matplotlib/animation.py\", line 754, in _draw_next_frame\n",
        "    self._draw_frame(framedata)\n",
        "  File \"/usr/lib/pymodules/python2.7/matplotlib/animation.py\", line 1049, in _draw_frame\n",
        "    self._drawn_artists = self._func(framedata, *self._args)\n",
        "  File \"<ipython-input-88-c68546fee312>\", line 16, in animate\n",
        "    thisy = f(vel[i][0][1][0:50],vel[i][1][0])\n",
        "  File \"mtrand.pyx\", line 1911, in mtrand.RandomState.f (numpy/random/mtrand/mtrand.c:11843)\n",
        "ValueError: dfden <= 0\n"
       ]
      }
     ],
     "prompt_number": 89
    },
    {
     "cell_type": "code",
     "collapsed": false,
     "input": [
      "fitparts,cov = curve_fit(f,a[1][0:50],a[0])\n",
      "\n",
      "newx=linspace(0,3.5,1000)\n",
      "newy=f(newx,*fitparts)\n",
      "plot(newx,newy)\n",
      "\n",
      "show()"
     ],
     "language": "python",
     "metadata": {},
     "outputs": [
      {
       "metadata": {},
       "output_type": "display_data",
       "png": "[encoded data removed]",
       "text": [
        "<matplotlib.figure.Figure at 0x7f9e18e7e550>"
       ]
      }
     ],
     "prompt_number": 38
    },
    {
     "cell_type": "code",
     "collapsed": false,
     "input": [
      "print fitparts[0]"
     ],
     "language": "python",
     "metadata": {},
     "outputs": [
      {
       "output_type": "stream",
       "stream": "stdout",
       "text": [
        "1.00031243508\n"
       ]
      }
     ],
     "prompt_number": 40
    },
    {
     "cell_type": "markdown",
     "metadata": {},
     "source": [
      "Considerando lo mostrado previamente se puede decir que los datos se ajustan bastante bien con la distribuci\u00f3n de Rayliegh, pues tanto la curva mostrada como el histobrama muestran un comportamiento af\u00edn. "
     ]
    },
    {
     "cell_type": "code",
     "collapsed": false,
     "input": [
      "%pylab\n",
      "from matplotlib import animation\n",
      "\n",
      "\n",
      "fig=figure()\n",
      "ax = fig.add_subplot(111, autoscale_on=False)\n",
      "ax.grid()\n",
      "line, = ax.plot([], [], 'o', lw=2)\n",
      "\n",
      "def init():\n",
      "    line.set_data([], [])\n",
      "    return line\n",
      "\n",
      "def animate(i):\n",
      "    thisx = \n",
      "    thisy = \n",
      "\n",
      "    line.set_data(thisx, thisy)\n",
      "    return line\n",
      "\n",
      "ani = animation.FuncAnimation(fig, animate, interval=25, blit=False, init_func=init)\n",
      "\n",
      "show()"
     ],
     "language": "python",
     "metadata": {},
     "outputs": [
      {
       "output_type": "stream",
       "stream": "stdout",
       "text": [
        "Using matplotlib backend: TkAgg\n",
        "Populating the interactive namespace from numpy and matplotlib\n"
       ]
      }
     ],
     "prompt_number": 93
    },
    {
     "cell_type": "code",
     "collapsed": false,
     "input": [
      "hist(vel[0][0][1][0:50], bins=50, normed=True, weights=vel[0][0][0], color='Red', label=None)"
     ],
     "language": "python",
     "metadata": {},
     "outputs": [
      {
       "metadata": {},
       "output_type": "pyout",
       "prompt_number": 25,
       "text": [
        "(array([ 38.18847642,  12.807111  ,  13.03996756,   9.77997567,\n",
        "         9.77997567,  10.47854536,   5.1228444 ,   8.14997972,\n",
        "         7.21855347,   5.58855753,   3.95856158,   4.65713127,\n",
        "         4.42427471,   5.58855753,   5.1228444 ,   5.58855753,\n",
        "         5.35570096,   5.35570096,   3.49284845,   4.42427471,\n",
        "         5.1228444 ,   3.72570502,   5.1228444 ,   6.51998378,\n",
        "         7.21855347,   4.88998783,   5.35570096,   4.42427471,\n",
        "         3.95856158,   3.25999189,   5.1228444 ,   4.65713127,\n",
        "         6.75284034,   3.95856158,   3.95856158,   4.65713127,\n",
        "         5.82141409,   6.28712722,   6.51998378,   5.1228444 ,\n",
        "         5.1228444 ,   5.35570096,   6.05427065,   7.91712316,\n",
        "         5.58855753,   9.31426254,   6.98569691,   8.84854942,\n",
        "        12.1085413 ,  34.69562797]),\n",
        " array([ 1.34530057,  1.34798463,  1.35066868,  1.35335274,  1.35603679,\n",
        "        1.35872085,  1.3614049 ,  1.36408896,  1.36677302,  1.36945707,\n",
        "        1.37214113,  1.37482518,  1.37750924,  1.38019329,  1.38287735,\n",
        "        1.38556141,  1.38824546,  1.39092952,  1.39361357,  1.39629763,\n",
        "        1.39898168,  1.40166574,  1.4043498 ,  1.40703385,  1.40971791,\n",
        "        1.41240196,  1.41508602,  1.41777008,  1.42045413,  1.42313819,\n",
        "        1.42582224,  1.4285063 ,  1.43119035,  1.43387441,  1.43655847,\n",
        "        1.43924252,  1.44192658,  1.44461063,  1.44729469,  1.44997874,\n",
        "        1.4526628 ,  1.45534686,  1.45803091,  1.46071497,  1.46339902,\n",
        "        1.46608308,  1.46876713,  1.47145119,  1.47413525,  1.4768193 ,\n",
        "        1.47950336]),\n",
        " <a list of 50 Patch objects>)"
       ]
      },
      {
       "metadata": {},
       "output_type": "display_data",
       "png": "[encoded data removed]",
       "text": [
        "<matplotlib.figure.Figure at 0x7ff4e4f73610>"
       ]
      }
     ],
     "prompt_number": 25
    },
    {
     "cell_type": "code",
     "collapsed": false,
     "input": [
      "import numpy as np\n",
      "import matplotlib.pyplot as plt\n",
      "%matplotlib inline"
     ],
     "language": "python",
     "metadata": {},
     "outputs": [],
     "prompt_number": 39
    },
    {
     "cell_type": "code",
     "collapsed": false,
     "input": [
      "doc = np.genfromtxt(\"Rayleigh.csv\",delimiter=\",\")\n",
      "x = np.array(doc[:,0])\n",
      "y = np.array(doc[:,1])\n",
      "vx = doc[:,2]\n",
      "vy = doc[:,3]"
     ],
     "language": "python",
     "metadata": {},
     "outputs": [],
     "prompt_number": 72
    },
    {
     "cell_type": "code",
     "collapsed": false,
     "input": [
      "import numpy as np\n",
      "import matplotlib.pyplot as plt\n",
      "import matplotlib.animation as animation\n",
      "\n",
      "fig = plt.figure()\n",
      "\n",
      "# ims is a list of lists, each row is a list of artists to draw in the\n",
      "# current frame; here we are just animating one artist, the image, in\n",
      "# each frame\n",
      "ims = []\n",
      "for i in range(251):\n",
      "    im = plt.plot(x[i*1600:(i+1)*1600],y[i*1600:(i+1)*1600],'ko')\n",
      "    ims.append(im)\n",
      "\n",
      "ani = animation.ArtistAnimation(fig, ims, interval=100, blit=True,repeat_delay=1000)\n",
      "\n",
      "#ani.save('dynamic_images.mp4')\n",
      "\n",
      "\n",
      "plt.show()"
     ],
     "language": "python",
     "metadata": {},
     "outputs": [],
     "prompt_number": 75
    },
    {
     "cell_type": "code",
     "collapsed": false,
     "input": [
      "plt.imshow?"
     ],
     "language": "python",
     "metadata": {},
     "outputs": [],
     "prompt_number": 70
    },
    {
     "cell_type": "code",
     "collapsed": false,
     "input": [],
     "language": "python",
     "metadata": {},
     "outputs": []
    }
   ],
   "metadata": {}
  }
 ]
}