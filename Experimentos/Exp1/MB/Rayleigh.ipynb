{
 "metadata": {
  "name": ""
 },
 "nbformat": 3,
 "nbformat_minor": 0,
 "worksheets": [
  {
   "cells": [
    {
     "cell_type": "heading",
     "level": 1,
     "metadata": {},
     "source": [
      "Introducci\u00f3n"
     ]
    },
    {
     "cell_type": "markdown",
     "metadata": {},
     "source": [
      "El potencial de Liennard Jones es un modelo matem\u00e1tico simple que describe la interacci\u00f3n entre pares de \u00e1tomos o mol\u00e9culas neutrales. Su expresi\u00f3n m\u00e1s general es \n",
      "\n",
      "\\begin{equation}\n",
      "\\large \n",
      "V_{LJ}= 4\\epsilon[(\\frac{\\sigma}{r})^{12}-(\\frac{\\sigma}{r})^{6}]\n",
      "\\end{equation}\n",
      "\n",
      "En este experimento se pretende trabajar con una simulaci\u00f3n de un gas de part\u00edculas que interact\u00faan bajo el potencial $V_{LJ}$. La simulaci\u00f3n se realiza con base en un software del libro *The Art of Molecular Dynamics Simulation de Rapaport*, considerando que las velocidades iniciales de las part\u00edculas tienen una distribuci\u00f3n uniforme y tomando sus posiciones iniciales en una cuadr\u00edcula.\n",
      "\n",
      "Teniendo en cuenta lo anterior, el prop\u00f3sito de este experimento es verificar que, en equilibrio termodin\u00e1mico, la distribuci\u00f3n de rapideces de las part\u00edculas del gas es adecuadamente descrita por la distribuci\u00f3n de Rayleigh, la cual se observa frecuentemente cuando la magnitud total de un vector est\u00e1 relacionada con sus componentes direcionales. Dicha distribuci\u00f3n est\u00e1 dada por:\n",
      "\n",
      "\\begin{equation}\n",
      "\\large\n",
      "f(x,\\sigma) = \\left(\\frac{x}{\\sigma^2}\\right)e^{\\left(\\frac{-x\u00b2}{2\\sigma\u00b2}\\right)}\n",
      "\\end{equation}\n",
      "\n",
      "Para las siguientes secciones se usar\u00e1n herramientas como `curve_fit`, `hist`, `animate`, entre otras."
     ]
    },
    {
     "cell_type": "heading",
     "level": 1,
     "metadata": {},
     "source": [
      "An\u00e1lisis de datos"
     ]
    },
    {
     "cell_type": "markdown",
     "metadata": {},
     "source": [
      "Teniendo en cuenta la informaci\u00f3n anterior, se realiza un histograma de los datos de las rapideces, conjuntamente con una regresi\u00f3n no lineal para ver si los datos se ajustan o no a la distribuci\u00f3n de Rayleigh. Solo se tienen en cuenta los \u00faltimos 1600 datos de la simulaci\u00f3n puesto que se asume que para estos datos el sistema ya ha alcanzado el equilibrio."
     ]
    },
    {
     "cell_type": "code",
     "collapsed": false,
     "input": [
      "import numpy as np\n",
      "import matplotlib.pyplot as plt\n",
      "import matplotlib.animation as animation\n",
      "from scipy.optimize import curve_fit\n",
      "%matplotlib "
     ],
     "language": "python",
     "metadata": {},
     "outputs": [
      {
       "output_type": "stream",
       "stream": "stdout",
       "text": [
        "Using matplotlib backend: TkAgg\n"
       ]
      }
     ],
     "prompt_number": 1
    },
    {
     "cell_type": "code",
     "collapsed": false,
     "input": [
      "doc = np.genfromtxt(\"Rayleigh.csv\",delimiter=\",\")\n",
      "x = np.array(doc[:,0])\n",
      "y = np.array(doc[:,1])\n",
      "vx = np.array(doc[:,2])\n",
      "vy = np.array(doc[:,3])"
     ],
     "language": "python",
     "metadata": {},
     "outputs": [],
     "prompt_number": 2
    },
    {
     "cell_type": "code",
     "collapsed": false,
     "input": [
      "velocities = np.array(np.sqrt(vx[:]**2 + vy[:]**2))"
     ],
     "language": "python",
     "metadata": {},
     "outputs": [],
     "prompt_number": 3
    },
    {
     "cell_type": "code",
     "collapsed": false,
     "input": [
      "%matplotlib\n",
      "\n",
      "fig = plt.figure()\n",
      "\n",
      "# ims is a list of lists, each row is a list of artists to draw in the\n",
      "# current frame; here we are just animating one artist, the image, in\n",
      "# each frame\n",
      "ims = []\n",
      "for i in range(251):\n",
      "    im = plt.plot(x[i*1600:(i+1)*1600],y[i*1600:(i+1)*1600],'ko')\n",
      "    ims.append(im)\n",
      "\n",
      "ani = animation.ArtistAnimation(fig, ims, interval=50, blit=True,repeat_delay=1000)\n",
      "\n",
      "#ani.save('dynamic_images.mp4')\n",
      "\n",
      "\n",
      "plt.show()"
     ],
     "language": "python",
     "metadata": {},
     "outputs": [
      {
       "output_type": "stream",
       "stream": "stdout",
       "text": [
        "Using matplotlib backend: TkAgg\n"
       ]
      }
     ],
     "prompt_number": 5
    },
    {
     "cell_type": "code",
     "collapsed": false,
     "input": [],
     "language": "python",
     "metadata": {},
     "outputs": []
    }
   ],
   "metadata": {}
  }
 ]
}