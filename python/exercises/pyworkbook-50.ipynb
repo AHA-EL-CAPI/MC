{
 "metadata": {
  "name": ""
 },
 "nbformat": 3,
 "nbformat_minor": 0,
 "worksheets": [
  {
   "cells": [
    {
     "cell_type": "code",
     "collapsed": false,
     "input": [
      "import math as math"
     ],
     "language": "python",
     "metadata": {},
     "outputs": [],
     "prompt_number": 13
    },
    {
     "cell_type": "code",
     "collapsed": false,
     "input": [
      "print \"Give the parameters for the quadratic equation ax\u00b2 + bx + c = 0\"\n",
      "a = float(raw_input(\"a = \"))\n",
      "b = float(raw_input(\"b = \"))\n",
      "c = float(raw_input(\"c = \"))\n",
      "d = float(b**2 - 4*a*c)\n",
      "if d > 0:\n",
      "    print \"There are two real roots: \"+ str((-b - math.sqrt(d))/2*a) + \" and \" + str((-b + math.sqrt(d))/2*a)\n",
      "elif d == 0:\n",
      "    print \"There is only one real root: \" + str(-b/2*a)\n",
      "else:\n",
      "    print \"There are no real roots for the cuadratic equation with the given parameters\"\n",
      "\n"
     ],
     "language": "python",
     "metadata": {},
     "outputs": [
      {
       "output_type": "stream",
       "stream": "stdout",
       "text": [
        "Give the parameters for the quadratic equation ax\u00b2 + bx + c = 0\n"
       ]
      },
      {
       "name": "stdout",
       "output_type": "stream",
       "stream": "stdout",
       "text": [
        "a = 1\n"
       ]
      },
      {
       "name": "stdout",
       "output_type": "stream",
       "stream": "stdout",
       "text": [
        "b = 3\n"
       ]
      },
      {
       "name": "stdout",
       "output_type": "stream",
       "stream": "stdout",
       "text": [
        "c = 1\n"
       ]
      },
      {
       "output_type": "stream",
       "stream": "stdout",
       "text": [
        "There are two real roots: -2.61803398875 and -0.38196601125\n"
       ]
      }
     ],
     "prompt_number": 31
    }
   ],
   "metadata": {}
  }
 ]
}