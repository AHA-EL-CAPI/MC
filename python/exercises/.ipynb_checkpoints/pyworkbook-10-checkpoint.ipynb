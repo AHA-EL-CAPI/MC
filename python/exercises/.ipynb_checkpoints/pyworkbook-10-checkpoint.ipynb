{
 "metadata": {
  "name": ""
 },
 "nbformat": 3,
 "nbformat_minor": 0,
 "worksheets": [
  {
   "cells": [
    {
     "cell_type": "code",
     "collapsed": false,
     "input": [
      "import math as math"
     ],
     "language": "python",
     "metadata": {},
     "outputs": []
    },
    {
     "cell_type": "code",
     "collapsed": false,
     "input": [
      "\n",
      "\n",
      "N1 = float(raw_input(\"#1 = \"))\n",
      "N2 = float(raw_input(\"#2 = \"))\n",
      "print \"#1 + #2 =\", N1 + N2\n",
      "print \"#1 - #2 =\", N1-N2\n",
      "print \"#1 * #2 =\", N1*N2\n",
      "print \"#1/#2 =\", N1/N2\n",
      "print \"remaninder #1/#2 =\", N1%N2\n",
      "print \"log#1 in base 10 =\", math.log(abs(N1), 10)\n",
      "print \"#1 to the #2 =\", N1**N2\n",
      "\n"
     ],
     "language": "python",
     "metadata": {},
     "outputs": [
      {
       "name": "stdout",
       "output_type": "stream",
       "stream": "stdout",
       "text": [
        "#1 = 2\n"
       ]
      },
      {
       "name": "stdout",
       "output_type": "stream",
       "stream": "stdout",
       "text": [
        "#2 = 3\n"
       ]
      },
      {
       "output_type": "stream",
       "stream": "stdout",
       "text": [
        "#1 + #2 = 5.0\n",
        "#1 - #2 = -1.0\n",
        "#1 * #2 = 6.0\n",
        "#1/#2 = 0.666666666667\n",
        "remaninder #1/#2 = 2.0\n",
        "log#1 in base 10 = 0.301029995664\n",
        "#1 to the #2 = 8.0\n"
       ]
      }
     ],
     "prompt_number": 17
    }
   ],
   "metadata": {}
  }
 ]
}