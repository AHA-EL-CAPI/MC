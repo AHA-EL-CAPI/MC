{
 "metadata": {
  "name": ""
 },
 "nbformat": 3,
 "nbformat_minor": 0,
 "worksheets": [
  {
   "cells": [
    {
     "cell_type": "code",
     "collapsed": false,
     "input": [
      "from tabulate import tabulate"
     ],
     "language": "python",
     "metadata": {},
     "outputs": [],
     "prompt_number": 4
    },
    {
     "cell_type": "code",
     "collapsed": false,
     "input": [
      "x = PrettyTable([\"City name\", \"Area\", \"Population\", \"Annual Rainfall\"])\n",
      "x.align[\"City name\"] = \"l\" # Left align city names\n",
      "x.padding_width = 1 # One space between column edges and contents (default)\n",
      "x.add_row([\"Adelaide\",1295, 1158259, 600.5])\n",
      "x.add_row([\"Brisbane\",5905, 1857594, 1146.4])\n",
      "x.add_row([\"Darwin\", 112, 120900, 1714.7])\n",
      "x.add_row([\"Hobart\", 1357, 205556, 619.5])\n",
      "x.add_row([\"Sydney\", 2058, 4336374, 1214.8])\n",
      "x.add_row([\"Melbourne\", 1566, 3806092, 646.9])\n",
      "x.add_row([\"Perth\", 5386, 1554769, 869.4])\n",
      "print x"
     ],
     "language": "python",
     "metadata": {},
     "outputs": []
    }
   ],
   "metadata": {}
  }
 ]
}