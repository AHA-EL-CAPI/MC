{
 "cells": [
  {
   "cell_type": "markdown",
   "metadata": {},
   "source": [
    "#Taller 9 - Ecuaciones en Derivadas Parciales\n",
    "*Métodos Computacionales - Laboratorio*\n",
    "\n",
    "14-Jul-2015 & 15-Jul-2015\n",
    "\n",
    "## Ecuación de Onda con Amortiguamiento 8 ✵\n",
    "\n",
    "1) ✵✵✵ Modifique la solución de la ecuación de onda 2D por diferencias finitas para incluir efectos de amortiguamiento. Determine la ecuación de evolución modificada y escriba el desarrollo algebraico correspondiente.\n",
    "\n",
    "$$\\frac{\\partial^2 \\psi}{\\partial{x}^2} + 2\\eta \\frac{\\partial\\psi}{\\partial{t}} = \\frac{1}{v^2}\\frac{\\partial^2 \\psi}{\\partial{t}^2}$$\n",
    "    \n",
    "2) ✵ Programe lo anterior y haga una animación de lo que le acontece a una deformación inicial similar a la que hemos utilizado en anteriores ocasiones. Considere una membrana con extremos fijos.\n",
    "\n",
    "3) ✵✵✵✵ Ahora haga una animación que simule gotas sobre la superficie de una piscina de agua. Extremos fijos. [Aquí](https://github.com/ComputoCienciasUniandes/MetodosComputacionalesLaboratorio/raw/master/2015-V/actividades/talleres/Taller9/pool.mp4) se muestra un ejemplo del resultado esperado donde se usaron los siguientes parámetros:\n",
    "\n",
    "    # unidades arbitrarias\n",
    "    xmin=-0.5\n",
    "    xmax=0.5\n",
    "    ymin=-0.5\n",
    "    ymax=0.5\n",
    "    dt=1.5e-5\n",
    "    dx=1.0e-2\n",
    "    v=400.\n",
    "    eta=1000.\n",
    "    r=v*dt/dx\n",
    "\n",
    "  **Al terminar la clase del miércoles ejecute `lottery.sh` para saber si su taller va a ser revisado.**\n"
   ]
  },
  {
   "cell_type": "markdown",
   "metadata": {},
   "source": [
    "Basado en en [esta](http://dspace.mit.edu/bitstream/handle/1721.1/36869/18-303Fall-2004/NR/rdonlyres/Mathematics/18-303Fall-2004/901E96F1-5F61-4EFC-AADD-C9352D29B241/0/probwave1solns.pdf) página, la ecuación de onda en 2D con amoriguamiento es:\n",
    "\n",
    "$$\n",
    "\\large\n",
    "v^2\\left(\\frac{\\partial^2\\psi}{\\partial x^2} + \\frac{\\partial^2\\psi}{\\partial y^2}\\right) - 2\\eta\\frac{\\partial \\psi}{\\partial t} =  \\frac{\\partial^2\\psi}{\\partial t^2}   \n",
    "$$\n",
    "\n",
    "Identificando $x \\rightarrow i, y \\rightarrow j$ y $t \\rightarrow k$ y aproximando por diferencias finitas tenemos que:\n",
    "\n",
    "$$\n",
    "\\large\n",
    "v^2\\left(\\frac{\\psi_{i+1,j,k} + \\psi_{i-1,j,k} -2\\psi_{i,j,k}}{\\Delta x^2} + \\frac{\\psi_{i,j+1,k} + \\psi_{i,j-1,k} -2\\psi_{i,j,k}}{\\Delta y^2}\\right) - 2\\eta\\frac{\\psi_{i,j,k+1} - \\psi_{i,j,k-1}}{\\Delta t} = \\frac{\\psi_{i,j,k+1} + \\psi_{i,j,k-1} -2\\psi_{i,j,k}}{\\Delta t^2}\n",
    "$$\n",
    "\n",
    "Despejando para $\\psi(i,j,k+1)$ y definiendo $\\Delta x = \\Delta y = h_{1}, \\Delta t = h_{2}$obtenemos:\n",
    "\n",
    "$$\n",
    "\\large\n",
    "\\psi_{i,j,k+1} = \\frac{1}{\\frac{1}{h_{2}^2} + \\frac{2\\eta}{h_{2}}} \\left[v^2\\left(\\frac{\\psi_{i+1,j,k} + \\psi_{i-1,j,k} + \\psi_{i,j+1,k} + \\psi_{i,j-1,k}}{h_{1}^2}\\right) + 2\\left(\\frac{1}{h_{2}^2} - \\frac{2v^2}{h_{1}^2}\\right)\\psi_{i,j,k} + \\left(\\frac{2\\eta}{h_{2}} - \\frac{1}{h_{2}^2}\\right)\\psi_{i,j,k-1} \\right]\n",
    "$$"
   ]
  },
  {
   "cell_type": "code",
   "execution_count": 1,
   "metadata": {
    "collapsed": true
   },
   "outputs": [],
   "source": [
    "import numpy as np\n",
    "import matplotlib.pyplot as plt\n",
    "from matplotlib import animation"
   ]
  },
  {
   "cell_type": "code",
   "execution_count": 2,
   "metadata": {
    "collapsed": false
   },
   "outputs": [],
   "source": [
    "Nt = 4000 \n",
    "Nl = 100\n",
    "L = 10. # Lado de la piscina.\n",
    "tmin = 0\n",
    "tmax = .3\n",
    "xmin = -L/2\n",
    "xmax = L/2\n",
    "ymin = -L/2\n",
    "ymax = L/2\n",
    "eta = 50. # Constante de amortiguamiento.\n",
    "dt = (tmax-tmin)/Nt\n",
    "dx = (xmax-xmin)/Nl\n",
    "dy = (ymax-ymin)/Nl\n",
    "v = 425. # m/s\n",
    "r = v*dt/dx\n",
    "stdev = 1./np.sqrt(2)\n",
    "\n",
    "xcoords = np.linspace(xmin,xmax,Nl)\n",
    "ycoords = np.linspace(ymin,ymax,Nl)\n",
    "xmesh, ymesh = np.meshgrid(xcoords,ycoords)\n",
    "drum = np.zeros((Nt,Nl,Nl)) # Arreglo que guarda la información de todas las gotas.\n",
    "\n",
    "g = 20 # Número de gotas deseadas.\n",
    "st = Nt/g # Frecuencia de caída de las gotas. Se asume una frecuencia uniforme.\n",
    "for i in range(g): \n",
    "    x,y = np.random.uniform(xmin,xmax,2) # Posición de caída de las gotas. Se generan aleatoriamente en cada iteración.\n",
    "    drum_it = np.zeros((Nt,Nl,Nl))\n",
    "    # Condición inicial (caída de gotas) en intervalos de st unidades de tiempo.\n",
    "    drum_it[i*st] = np.exp(-np.power(xmesh-x,2)/(2*stdev**2))*np.exp(-np.power(ymesh-y,2)/(2*stdev**2))\n",
    "    drum_it[i*st +1] = drum_it[i*st]+r**2/2.*(np.roll(drum_it[i*st],1,axis=0)+np.roll(drum_it[i*st],-1,axis=0)+\n",
    "                                                np.roll(drum_it[i*st],1,axis=1)+np.roll(drum_it[i*st],-1,axis=1)-\n",
    "                                               4*drum_it[i*st])\n",
    "    # Extremos fijos.\n",
    "    drum_it[i*st,0] = 0.\n",
    "    drum_it[i*st,-1] = 0.\n",
    "    drum_it[i*st +1,:,0] = 0.\n",
    "    drum_it[i*st +1,:,-1] = 0.\n",
    "    \n",
    "    #S Solución de la ecuación de onda para cada gota.\n",
    "    for i in range(i*st +2,Nt):\n",
    "        pdrum = drum_it[i-1]\n",
    "        ppdrum = drum_it[i-2]\n",
    "        drum_it[i] = (1/(1/(dt**2) + 2*eta/dt))*((v**2)*(np.roll(pdrum,1,axis=0) + np.roll(pdrum,-1,axis=0) + \n",
    "                                              np.roll(pdrum,1,axis=1) + np.roll(pdrum,-1,axis=1))/(dx**2) +\n",
    "                                              2*(1/(dt**2) - 2*(v**2)/(dx**2))*pdrum +\n",
    "                                              (2*eta/dt - 1/(dt**2))*ppdrum)\n",
    "           \n",
    "        drum_it[i,0] = 0.\n",
    "        drum_it[i,-1] = 0.\n",
    "        drum_it[i,:,0] = 0.\n",
    "        drum_it[i,:,-1] = 0.\n",
    "    # Se guarda la información de cada gota en el arreglo destinado para ese fin.\n",
    "    drum += drum_it"
   ]
  },
  {
   "cell_type": "code",
   "execution_count": 3,
   "metadata": {
    "collapsed": false
   },
   "outputs": [
    {
     "name": "stdout",
     "output_type": "stream",
     "text": [
      "Using matplotlib backend: Qt4Agg\n"
     ]
    }
   ],
   "source": [
    "%matplotlib\n",
    "\n",
    "fig = plt.figure(figsize=(15,10))\n",
    "plt.axis('off')\n",
    "im = plt.imshow(drum[0],cmap='gist_heat',vmin=0.,vmax=1.)\n",
    "\n",
    "def animate(i):  \n",
    "    im.set_array(drum[i])\n",
    "    return im,\n",
    "    \n",
    "animacion = animation.FuncAnimation(fig, animate, np.arange(0,len(drum),8), interval=1, blit=False\n",
    "                                    ,repeat_delay=1000)\n",
    "plt.tight_layout()\n",
    "#Writer = animation.writers['ffmpeg']\n",
    "#writer = Writer(fps=30, metadata=dict(artist='Me'), bitrate=1800)\n",
    "#animacion.save(u'Damped w2ave equation on pool.mp4',writer=writer)\n",
    "plt.show()"
   ]
  },
  {
   "cell_type": "code",
   "execution_count": null,
   "metadata": {
    "collapsed": true
   },
   "outputs": [],
   "source": []
  }
 ],
 "metadata": {
  "kernelspec": {
   "display_name": "Python 2",
   "language": "python",
   "name": "python2"
  },
  "language_info": {
   "codemirror_mode": {
    "name": "ipython",
    "version": 2
   },
   "file_extension": ".py",
   "mimetype": "text/x-python",
   "name": "python",
   "nbconvert_exporter": "python",
   "pygments_lexer": "ipython2",
   "version": "2.7.9"
  }
 },
 "nbformat": 4,
 "nbformat_minor": 0
}
