{
 "cells": [
  {
   "cell_type": "markdown",
   "metadata": {},
   "source": [
    "#Taller 9 - Ecuaciones en Derivadas Parciales\n",
    "*Métodos Computacionales - Laboratorio*\n",
    "\n",
    "14-Jul-2015 & 15-Jul-2015\n",
    "\n",
    "## Ecuación de Onda con Amortiguamiento 8 ✵\n",
    "\n",
    "1) ✵✵✵ Modifique la solución de la ecuación de onda 2D por diferencias finitas para incluir efectos de amortiguamiento. Determine la ecuación de evolución modificada y escriba el desarrollo algebraico correspondiente.\n",
    "\n",
    "$$\\frac{\\partial^2 \\psi}{\\partial{x}^2} + 2\\eta \\frac{\\partial\\psi}{\\partial{t}} = \\frac{1}{v^2}\\frac{\\partial^2 \\psi}{\\partial{t}^2}$$\n",
    "    \n",
    "2) ✵ Programe lo anterior y haga una animación de lo que le acontece a una deformación inicial similar a la que hemos utilizado en anteriores ocasiones. Considere una membrana con extremos fijos.\n",
    "\n",
    "3) ✵✵✵✵ Ahora haga una animación que simule gotas sobre la superficie de una piscina de agua. Extremos fijos. [Aquí](https://github.com/ComputoCienciasUniandes/MetodosComputacionalesLaboratorio/raw/master/2015-V/actividades/talleres/Taller9/pool.mp4) se muestra un ejemplo del resultado esperado donde se usaron los siguientes parámetros:\n",
    "\n",
    "    # unidades arbitrarias\n",
    "    xmin=-0.5\n",
    "    xmax=0.5\n",
    "    ymin=-0.5\n",
    "    ymax=0.5\n",
    "    dt=1.5e-5\n",
    "    dx=1.0e-2\n",
    "    v=400.\n",
    "    eta=1000.\n",
    "    r=v*dt/dx\n",
    "\n",
    "  **Al terminar la clase del miércoles ejecute `lottery.sh` para saber si su taller va a ser revisado.**\n"
   ]
  },
  {
   "cell_type": "code",
   "execution_count": 1,
   "metadata": {
    "collapsed": true
   },
   "outputs": [],
   "source": [
    "import numpy as np\n",
    "import matplotlib.pyplot as plt\n",
    "from matplotlib import animation"
   ]
  },
  {
   "cell_type": "markdown",
   "metadata": {},
   "source": [
    "La ecuación de onda en 2D con amoriguamiento es:\n",
    "\n",
    "$$\n",
    "\\large\n",
    "\\frac{\\partial^2\\psi}{\\partial x^2} + \\frac{\\partial^2\\psi}{\\partial y^2} + 2\\eta\\frac{\\partial \\psi}{\\partial t} = \\frac{1}{v^2} \\frac{\\partial^2\\psi}{\\partial t^2}   \n",
    "$$\n",
    "\n",
    "Identificando $x \\rightarrow i, y \\rightarrow j$ y $t \\rightarrow k$ y aproximando por diferencias finitas tenemos que:\n",
    "\n",
    "$$\n",
    "\\large\n",
    "\\frac{\\psi_{i+1,j,k} + \\psi_{i-1,j,k} -\\psi_{i,j,k}}{\\Delta x^2} + \\frac{\\psi_{i,j+1,k} + \\psi_{i,j-1,k} -\\psi_{i,j,k}}{\\Delta y^2} + 2\\eta\\frac{\\psi-{i,j,k+1} - \\psi_{i,j,k-1}}{\\Delta t} = \\frac{1}{v^2}\\frac{\\psi_{i,j,k+1} + \\psi_{i,j,k-1} -\\psi_{i,j,k}}{\\Delta t^2}\n",
    "$$\n",
    "\n",
    "Despejando para $\\psi(i,j,k+1)$ y definiendo $\\Delta x = \\Delta y = h_{1}, \\Delta t = h_{2}$obtenemos:\n",
    "\n",
    "$$\n",
    "\\large\n",
    "\\psi_{i,j,k+1} = \\frac{1}{\\frac{1}{v^2h_{2}^2} - \\frac{2\\eta}{h_{2}}}\\left[ \\frac{\\psi_{i+1,j,k} + \\psi_{i-1,j,k} + \\psi_{i,j+1,k} + \\psi_{i,j-1,k}}{h_{1}^2} + 2\\left(\\frac{1}{v^2h_{2}^2} - \\frac{2}{h_{2}}\\right)\\psi_{i,j,k} - \\left(\\frac{2\\eta}{h_{2}} + \\frac{1}{v^2h_{2}^2}\\right)\\psi_{i,j,k-1} \\right]\n",
    "$$"
   ]
  },
  {
   "cell_type": "code",
   "execution_count": 4,
   "metadata": {
    "collapsed": true
   },
   "outputs": [],
   "source": [
    "Nt = 2000\n",
    "Nl = 50\n",
    "L = 10. # Lado del cubo\n",
    "tmin = 0\n",
    "tmax = .3\n",
    "xmin = -L/2\n",
    "xmax = L/2\n",
    "ymin = -L/2\n",
    "ymax = L/2\n",
    "dt = (tmax-tmin)/Nt\n",
    "dx = (xmax-xmin)/Nl\n",
    "dy = (ymax-ymin)/Nl\n",
    "v = 425. # m/s\n",
    "r = v*dt/dx\n",
    "\n",
    "#extremos fijos\n",
    "xcoords = np.linspace(xmin,xmax,Nl)\n",
    "ycoords = np.linspace(ymin,ymax,Nl)\n",
    "xmesh, ymesh = np.meshgrid(xcoords,ycoords)\n",
    "tcoords = np.linspace(tmin,tmax,Nt)\n",
    "drum = np.zeros((Nt,Nl,Nl))\n",
    "# fijar la condición inicial\n",
    "stdev = 0.1\n",
    "drum[0] = np.exp(-xmesh**2/(2*stdev**2))*np.exp(-ymesh**2/(2*stdev**2))\n",
    "drum[1] = drum[0]+r**2/2.*(np.roll(drum[0],1,axis=0)+np.roll(drum[0],-1,axis=0)+np.roll(drum[0],1,axis=1)\n",
    "                         +np.roll(drum[0],-1,axis=1)-4*drum[0])\n",
    "drum[0,0] = 0\n",
    "drum[0,-1] = 0\n",
    "drum[1,:,0] = 0\n",
    "drum[1,:,-1] = 0"
   ]
  },
  {
   "cell_type": "code",
   "execution_count": null,
   "metadata": {
    "collapsed": true
   },
   "outputs": [],
   "source": [
    "for i in range(2,Nt):\n",
    "    pdrum = drum[i-1]\n",
    "    ppdrum = drum[i-2]\n",
    "    drum[i] = (1/v**2/dt**2 - 2*eta/dt)((np.roll(pdrum,1,axis=1) + np.roll())/()+()/()+()/())\n",
    "    drum[i,0] = 0.\n",
    "    drum[i,-1] = 0.\n",
    "    drum[i,:,0] = 0.\n",
    "    drum[i,:,-1] = 0."
   ]
  }
 ],
 "metadata": {
  "kernelspec": {
   "display_name": "Python 2",
   "language": "python",
   "name": "python2"
  },
  "language_info": {
   "codemirror_mode": {
    "name": "ipython",
    "version": 2
   },
   "file_extension": ".py",
   "mimetype": "text/x-python",
   "name": "python",
   "nbconvert_exporter": "python",
   "pygments_lexer": "ipython2",
   "version": "2.7.9"
  }
 },
 "nbformat": 4,
 "nbformat_minor": 0
}
