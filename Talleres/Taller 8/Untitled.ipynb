{
 "cells": [
  {
   "cell_type": "code",
   "execution_count": 1,
   "metadata": {
    "collapsed": true
   },
   "outputs": [],
   "source": [
    "import numpy as np\n",
    "import matplotlib.pyplot as plt\n",
    "from matplotlib import animation\n",
    "%matplotlib inline"
   ]
  },
  {
   "cell_type": "code",
   "execution_count": 79,
   "metadata": {
    "collapsed": false,
    "scrolled": true
   },
   "outputs": [],
   "source": [
    "Nt=2000\n",
    "Nl=50\n",
    "L=10. # Lado del cubo\n",
    "tmin=0\n",
    "tmax=.3\n",
    "xmin=-L/2\n",
    "xmax=L/2\n",
    "ymin=-L/2\n",
    "ymax=L/2\n",
    "dt=(tmax-tmin)/Nt\n",
    "dx=(xmax-xmin)/Nl\n",
    "dy=(ymax-ymin)/Nl\n",
    "v=425. # m/s\n",
    "r=v*dt/dx\n",
    "\n",
    "xcoords_0 = np.linspace(xmin,xmax,Nl)\n",
    "ycoords_0 = np.linspace(xmin,xmax,Nl)\n",
    "xmesh_0,ymesh_0 = np.meshgrid(xcoords_0,ycoords_0)\n",
    "\n",
    "xcoords_1 = np.linspace(xmin,xmax,Nl)\n",
    "ycoords_1 = np.linspace(xmin,xmax,Nl)\n",
    "xmesh_1,ymesh_1 = np.meshgrid(xcoords_1,ycoords_1)\n",
    "\n",
    "xcoords_2 = np.linspace(xmin,xmax,Nl)\n",
    "ycoords_2 = np.linspace(xmin,xmax,Nl)\n",
    "xmesh_2,ymesh_2 = np.meshgrid(xcoords_2,ycoords_2)\n",
    "\n",
    "xcoords_3 = np.linspace(xmin,xmax,Nl)\n",
    "ycoords_3 = np.linspace(xmin,xmax,Nl)\n",
    "xmesh_3,ymesh_3 = np.meshgrid(xcoords_3,ycoords_3)\n",
    "\n",
    "xcoords_4 = np.linspace(xmin,xmax,Nl)\n",
    "ycoords_4 = np.linspace(xmin,xmax,Nl)\n",
    "xmesh_4,ymesh_4 = np.meshgrid(xcoords_4,ycoords_4)\n",
    "\n",
    "xcoords_5 = np.linspace(xmin,xmax,Nl)\n",
    "ycoords_5 = np.linspace(xmin,xmax,Nl)\n",
    "xmesh_5,ymesh_5 = np.meshgrid(xcoords_5,ycoords_5)\n",
    "\n",
    "tcoords = np.linspace(tmin,tmax,Nt)\n",
    "\n",
    "drum_0 = np.zeros((Nt,Nl+2,Nl+2))\n",
    "drum_1 = np.zeros((Nt,Nl+2,Nl+2))\n",
    "drum_2 = np.zeros((Nt,Nl+2,Nl+2))\n",
    "drum_3 = np.zeros((Nt,Nl+2,Nl+2))\n",
    "drum_4 = np.zeros((Nt,Nl+2,Nl+2))\n",
    "drum_5 = np.zeros((Nt,Nl+2,Nl+2))\n",
    "\n",
    "# fijar la condición inicial\n",
    "stdev=1./np.sqrt(2)\n",
    "drum_1[0,1:-1,1:-1] = np.exp(-xmesh_1**2/(2*stdev**2))*np.exp(-ymesh_1**2/(2*stdev**2))\n",
    "drum_1[1,1:-1,1:-1] = drum_1[0,1:-1,1:-1]+r**2/2.*(np.roll(drum_1[0,1:-1,1:-1],1,axis=0)\n",
    "                                         +np.roll(drum_1[0,1:-1,1:-1],-1,axis=0)\n",
    "                                         +np.roll(drum_1[0,1:-1,1:-1],1,axis=1)\n",
    "                                         +np.roll(drum_1[0,1:-1,1:-1],-1,axis=1)-4*drum_1[0,1:-1,1:-1])\n",
    "\n",
    "drum_3[0,1:-1,1:-1] = np.exp(-xmesh_3**2/(2*stdev**2))*np.exp(-ymesh_3**2/(2*stdev**2))\n",
    "drum_3[1,1:-1,1:-1] = drum_3[0,1:-1,1:-1]+r**2/2.*(np.roll(drum_3[0,1:-1,1:-1],1,axis=0)\n",
    "                                         +np.roll(drum_3[0,1:-1,1:-1],-1,axis=0)\n",
    "                                         +np.roll(drum_3[0,1:-1,1:-1],1,axis=1)\n",
    "                                         +np.roll(drum_3[0,1:-1,1:-1],-1,axis=1)-4*drum_3[0,1:-1,1:-1])"
   ]
  },
  {
   "cell_type": "code",
   "execution_count": 44,
   "metadata": {
    "collapsed": false
   },
   "outputs": [],
   "source": [
    "for i in range(2,Nt):\n",
    "    pdrum_0 = drum_0[i-1]\n",
    "    ppdrum_0 = drum_0[i-2]\n",
    "    pdrum_1 = drum_1[i-1]\n",
    "    ppdrum_1 = drum_1[i-2]\n",
    "    pdrum_2 = drum_2[i-1]\n",
    "    ppdrum_2 = drum_2[i-2]\n",
    "    pdrum_3 = drum_3[i-1]\n",
    "    ppdrum_3 = drum_3[i-2]\n",
    "    pdrum_4 = drum_4[i-1]\n",
    "    ppdrum_4 = drum_4[i-2]\n",
    "    pdrum_5 = drum_5[i-1]\n",
    "    ppdrum_5 = drum_5[i-2]\n",
    "    \n",
    "    pdrum_0[0,1:-1] = pdrum_4[:,1:-1]\n",
    "    pdrum_0[1:-1,0] = pdrum_3[:,1:-1]\n",
    "    pdrum_0[-1,1:-1] = pdrum_5[:,1:-1]\n",
    "    \n",
    "    \n",
    "    \n",
    "    drum_0[i]=2*(1.-2.*r**2)*pdrum_0-ppdrum_0+r**2*(np.roll(pdrum_0,1,axis=1)+np.roll(pdrum_0,-1,axis=1)\n",
    "                                              +np.roll(pdrum_0,1,axis=0)+np.roll(pdrum_0,-1,axis=0))"
   ]
  },
  {
   "cell_type": "code",
   "execution_count": 45,
   "metadata": {
    "collapsed": false
   },
   "outputs": [
    {
     "name": "stdout",
     "output_type": "stream",
     "text": [
      "Using matplotlib backend: Qt4Agg\n"
     ]
    }
   ],
   "source": [
    "# Animación\n",
    "%matplotlib\n",
    "\n",
    "fig=plt.figure(figsize=(10,10))\n",
    "plt.hold(True)\n",
    "plt.pcolor(xcoords_1,ycoords_1,drum_1[0],cmap='gist_heat',vmin=0.,vmax=1.)\n",
    "plt.xlim(xmin+dx,xmax-dx)\n",
    "plt.ylim(ymin+dy,ymax-dy)\n",
    "#plt.colorbar()\n",
    "\n",
    "def animate(i):\n",
    "    plt.pcolor(xcoords_1,ycoords_1,drum_1[i],cmap='gist_heat',vmin=0.,vmax=1.)\n",
    "    plt.xlim(xmin+dx,xmax-dx)\n",
    "    plt.ylim(ymin+dy,ymax-dy)\n",
    "animacion = animation.FuncAnimation(fig, animate, 100,interval=1, blit=False)\n",
    "plt.show()\n",
    "plt.hold(False)"
   ]
  },
  {
   "cell_type": "code",
   "execution_count": 2,
   "metadata": {
    "collapsed": false
   },
   "outputs": [
    {
     "data": {
      "text/plain": [
       "array([[ 1.,  1.,  1.,  1.,  1.],\n",
       "       [ 2.,  2.,  2.,  2.,  2.],\n",
       "       [ 3.,  3.,  3.,  3.,  3.],\n",
       "       [ 4.,  4.,  4.,  4.,  4.],\n",
       "       [ 5.,  5.,  5.,  5.,  5.]])"
      ]
     },
     "execution_count": 2,
     "metadata": {},
     "output_type": "execute_result"
    }
   ],
   "source": [
    "a = np.linspace(1,5,5)\n",
    "b = np.linspace(6,11,5)\n",
    "c = np.linspace(12,17,5)\n",
    "amesh ,bmesh , cmesh = np.meshgrid(a,b,c)\n",
    "cosa = "
   ]
  },
  {
   "cell_type": "code",
   "execution_count": null,
   "metadata": {
    "collapsed": true
   },
   "outputs": [],
   "source": []
  }
 ],
 "metadata": {
  "kernelspec": {
   "display_name": "Python 2",
   "language": "python",
   "name": "python2"
  },
  "language_info": {
   "codemirror_mode": {
    "name": "ipython",
    "version": 2
   },
   "file_extension": ".py",
   "mimetype": "text/x-python",
   "name": "python",
   "nbconvert_exporter": "python",
   "pygments_lexer": "ipython2",
   "version": "2.7.9"
  }
 },
 "nbformat": 4,
 "nbformat_minor": 0
}
