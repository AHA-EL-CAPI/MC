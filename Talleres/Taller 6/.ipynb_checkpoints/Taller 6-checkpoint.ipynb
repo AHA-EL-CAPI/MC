{
 "metadata": {
  "name": ""
 },
 "nbformat": 3,
 "nbformat_minor": 0,
 "worksheets": [
  {
   "cells": [
    {
     "cell_type": "code",
     "collapsed": false,
     "input": [
      "import numpy as np\n",
      "import matplotlib.pyplot as plt\n",
      "%matplotlib inline"
     ],
     "language": "python",
     "metadata": {},
     "outputs": [],
     "prompt_number": 1
    },
    {
     "cell_type": "code",
     "collapsed": false,
     "input": [
      "doc = np.genfromtxt(\"running_dirty_nov.gpx.txt\",delimiter=\",\")\n",
      "lon = doc[:,0]\n",
      "lat = doc[:,1]\n",
      "height = doc[:,2]\n",
      "hours = doc[:,3]\n",
      "minutes = doc[:,4]\n",
      "sec = doc[:,5]\n",
      "\n",
      "time = hours*3600 + minutes*60 + sec"
     ],
     "language": "python",
     "metadata": {},
     "outputs": [],
     "prompt_number": 13
    },
    {
     "cell_type": "code",
     "collapsed": false,
     "input": [
      "R = 6378.1 * 10**3 # Radius of earth\n",
      "\n",
      "# Cartesian coordinates \n",
      "\n",
      "x = R * np.cos(lat) * np.cos(lon)\n",
      "\n",
      "y = R * np.cos(lat) * np.sin(lon)\n",
      "\n",
      "z = R * np.sin(lat)"
     ],
     "language": "python",
     "metadata": {},
     "outputs": [],
     "prompt_number": 14
    },
    {
     "cell_type": "code",
     "collapsed": false,
     "input": [
      "# Space-time displacement arrays\n",
      "disx = x - x[0]\n",
      "disy = y - y[0]\n",
      "disz = z - z[0]\n",
      "dist = time - time[0]"
     ],
     "language": "python",
     "metadata": {},
     "outputs": [],
     "prompt_number": 17
    },
    {
     "cell_type": "code",
     "collapsed": false,
     "input": [],
     "language": "python",
     "metadata": {},
     "outputs": []
    }
   ],
   "metadata": {}
  }
 ]
}