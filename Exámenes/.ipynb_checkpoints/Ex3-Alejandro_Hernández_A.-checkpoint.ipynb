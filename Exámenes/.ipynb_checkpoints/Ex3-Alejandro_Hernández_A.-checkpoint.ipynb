{
 "cells": [
  {
   "cell_type": "code",
   "execution_count": 1,
   "metadata": {
    "collapsed": true
   },
   "outputs": [],
   "source": [
    "import numpy as np\n",
    "import matplotlib.pyplot as plt\n",
    "%matplotlib inline"
   ]
  },
  {
   "cell_type": "code",
   "execution_count": 2,
   "metadata": {
    "collapsed": true
   },
   "outputs": [],
   "source": [
    "def positions(N):\n",
    "    positions = np.zeros((N,2))\n",
    "    for i in range(N):\n",
    "        positions[i,0] = np.random.uniform(0.,1.)\n",
    "        positions[i,1] = np.random.uniform(0.,1.)\n",
    "    return positions\n",
    "\n",
    "def distances(Y):\n",
    "    distances = np.array([])\n",
    "    for i in range(len(Y)):\n",
    "        for j in range(len(Y)):\n",
    "            if (j>i):\n",
    "                distance = np.sqrt((Y[i,0]-Y[j,0])**2 + (Y[i,1]-Y[j,1])**2)\n",
    "                distances = np.append(distances,distance)\n",
    "    return distances"
   ]
  },
  {
   "cell_type": "markdown",
   "metadata": {},
   "source": [
    "La idea es crear una array con las N posiciones de todos los puntos mediante la función `positions(N)` (con N el número de puntos a generar) y luego mirar las distancias no entre los mismos mediante la función `distances(Y)` (con Y el parámetro que contiene las posiciones de los puntos). Teniendo ahora el arreglo de distancias, la idea es  hallar el mínimo de ese array y repetir varias veces para un N fijo con el fin de obtener un promedio de distancia mínima para dicho N, todo lo anterior con el fin de cumplir con lo requerido en el parcial."
   ]
  },
  {
   "cell_type": "code",
   "execution_count": 3,
   "metadata": {
    "collapsed": true
   },
   "outputs": [],
   "source": [
    "def experiment(N,iteraciones):\n",
    "    suma = 0.\n",
    "    for i in range(iteraciones):\n",
    "        a = positions(N)\n",
    "        b = distances(a)\n",
    "        suma += min(b)\n",
    "    return suma/iteraciones"
   ]
  },
  {
   "cell_type": "code",
   "execution_count": null,
   "metadata": {
    "collapsed": false
   },
   "outputs": [],
   "source": [
    "x = np.arange(2,120,20)\n",
    "y = [experiment(x[i],1000) for i in range(len(x))]\n",
    "plt.plot(x,y,'o')"
   ]
  },
  {
   "cell_type": "code",
   "execution_count": null,
   "metadata": {
    "collapsed": true
   },
   "outputs": [],
   "source": []
  }
 ],
 "metadata": {
  "kernelspec": {
   "display_name": "Python 2",
   "language": "python",
   "name": "python2"
  },
  "language_info": {
   "codemirror_mode": {
    "name": "ipython",
    "version": 2
   },
   "file_extension": ".py",
   "mimetype": "text/x-python",
   "name": "python",
   "nbconvert_exporter": "python",
   "pygments_lexer": "ipython2",
   "version": "2.7.9"
  }
 },
 "nbformat": 4,
 "nbformat_minor": 0
}
